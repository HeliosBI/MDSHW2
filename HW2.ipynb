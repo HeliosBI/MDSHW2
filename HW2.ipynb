{
 "cells": [
  {
   "cell_type": "code",
   "execution_count": null,
   "metadata": {},
   "outputs": [],
   "source": [
    "# Уровень 0:\n",
    "# Создайте матрицу 3 на 3, заполненную числами от 1 до 9\n",
    "# Прибавьте к ней матрицу с единицами на диагонале\n",
    "# Умножьте полученную матрицу на вектор (1, 2, 3)\n",
    "# Посчитайте обратную матрицу к полученной матрице\n",
    "\n",
    "# Уровень 1:\n",
    "# Дан объект в 2d пространстве:\n",
    "# import numpy as np\n",
    "# import matplotlib.pyplot as plt\n",
    "\n",
    "# A = [\n",
    "# [-100, -100, 1],\n",
    "# [-100, 100, 1],\n",
    "# [100, 100, 1],\n",
    "# [0, 0, 1],\n",
    "# [100, -100, 1],\n",
    "# [-100, -100, 1]\n",
    "# ]\n",
    "# A = np.array(A)\n",
    "# x = A[:,0]\n",
    "# y = A[:,1]\n",
    "# plt.plot(x, y)\n",
    "# plt.ylim([-200, 200])\n",
    "# plt.xlim([-200, 200])\n",
    "\n",
    "# При помощи матричных операций выполните:\n",
    "# Уменьшить объект в два раза.\n",
    "# Повернуть на 130 градусов.\n",
    "# Отразить объект относительно прямой y=x\n",
    "# Выполнить смещение объекта и масштабирование (применить 2 матрицы трансформаций). Смещение на (200, 300) и масштабирование на (0.5, 1,2)"
   ]
  },
  {
   "cell_type": "code",
   "execution_count": null,
   "metadata": {},
   "outputs": [],
   "source": []
  },
  {
   "cell_type": "code",
   "execution_count": null,
   "metadata": {},
   "outputs": [],
   "source": []
  },
  {
   "cell_type": "code",
   "execution_count": null,
   "metadata": {},
   "outputs": [],
   "source": []
  },
  {
   "cell_type": "code",
   "execution_count": null,
   "metadata": {},
   "outputs": [],
   "source": []
  },
  {
   "cell_type": "code",
   "execution_count": null,
   "metadata": {},
   "outputs": [],
   "source": []
  },
  {
   "cell_type": "code",
   "execution_count": null,
   "metadata": {},
   "outputs": [],
   "source": []
  },
  {
   "cell_type": "code",
   "execution_count": null,
   "metadata": {},
   "outputs": [],
   "source": []
  }
 ],
 "metadata": {
  "kernelspec": {
   "display_name": "Python 3",
   "language": "python",
   "name": "python3"
  },
  "language_info": {
   "codemirror_mode": {
    "name": "ipython",
    "version": 3
   },
   "file_extension": ".py",
   "mimetype": "text/x-python",
   "name": "python",
   "nbconvert_exporter": "python",
   "pygments_lexer": "ipython3",
   "version": "3.8.2"
  }
 },
 "nbformat": 4,
 "nbformat_minor": 4
}
